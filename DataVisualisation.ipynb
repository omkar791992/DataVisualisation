{
  "nbformat": 4,
  "nbformat_minor": 0,
  "metadata": {
    "colab": {
      "name": "DataVisualisation.ipynb",
      "version": "0.3.2",
      "provenance": [],
      "collapsed_sections": []
    },
    "kernelspec": {
      "name": "python3",
      "display_name": "Python 3"
    }
  },
  "cells": [
    {
      "cell_type": "code",
      "metadata": {
        "id": "V0PuiPQfKvse",
        "colab_type": "code",
        "colab": {}
      },
      "source": [
        "import io\n",
        "import pandas as pd\n",
        "df = pd.read_csv(\"https://raw.githubusercontent.com/omkar791992/DataVisualisation/master/Airline-Dataset.csv\")\n",
        "airlines = pd.read_csv(\"https://raw.githubusercontent.com/omkar791992/DataVisualisation/master/Airline-Dataset.csv\")"
      ],
      "execution_count": 0,
      "outputs": []
    },
    {
      "cell_type": "code",
      "metadata": {
        "id": "yLmvm-YQLmLv",
        "colab_type": "code",
        "colab": {}
      },
      "source": [
        "import altair as alt\n",
        "import numpy as np\n",
        "import matplotlib.pyplot as plt\n",
        "\n",
        "import numpy as np\n",
        "\n",
        "from mpl_toolkits.mplot3d import axes3d\n",
        "import matplotlib.pyplot as plt\n",
        "import matplotlib.animation as animation\n",
        "import seaborn as sns\n",
        "%matplotlib inline\n",
        "import bokeh\n",
        "sns.set()\n",
        "\n",
        "### Plotly\n",
        "\n",
        "import plotly\n",
        "from scipy.spatial import Delaunay\n",
        "from plotly.offline import init_notebook_mode, iplot\n",
        "import plotly.graph_objs as go\n",
        "import plotly.figure_factory as ff\n",
        "import plotly.plotly as py\n",
        "from plotly import tools\n",
        "from plotly.graph_objs import *\n",
        "from plotly.offline import download_plotlyjs,init_notebook_mode,plot, iplot\n",
        "init_notebook_mode(connected=True)\n",
        "plotly.tools.set_credentials_file(username='ashsin', api_key='GDOULoqWsKIzYAk20OnD')\n",
        "\n",
        "# Altair\n",
        "import altair as alt\n",
        "from vega_datasets import data\n",
        "\n",
        "\n",
        "### Removes warnings that occassionally show up\n",
        "import warnings\n",
        "warnings.filterwarnings('ignore')\n"
      ],
      "execution_count": 0,
      "outputs": []
    },
    {
      "cell_type": "code",
      "metadata": {
        "id": "bT_pCAwZL3JV",
        "colab_type": "code",
        "colab": {}
      },
      "source": [
        "airlines.head()"
      ],
      "execution_count": 0,
      "outputs": []
    },
    {
      "cell_type": "code",
      "metadata": {
        "id": "jBVVHMLIrMVT",
        "colab_type": "code",
        "colab": {}
      },
      "source": [
        "df.head()"
      ],
      "execution_count": 0,
      "outputs": []
    },
    {
      "cell_type": "code",
      "metadata": {
        "id": "B1aNwQ5SMLIm",
        "colab_type": "code",
        "colab": {}
      },
      "source": [
        "df_sorted=df.sort_values(by=['Year'],ascending=False)"
      ],
      "execution_count": 0,
      "outputs": []
    },
    {
      "cell_type": "code",
      "metadata": {
        "id": "mqPqZ8B2MYqC",
        "colab_type": "code",
        "colab": {}
      },
      "source": [
        "alt.data_transformers.enable('default', max_rows=None)"
      ],
      "execution_count": 0,
      "outputs": []
    },
    {
      "cell_type": "code",
      "metadata": {
        "id": "4wzpdsRUMaPI",
        "colab_type": "code",
        "colab": {}
      },
      "source": [
        "df_ovrat=df.groupby('Destination Country').mean().overall_rating\n",
        "df_ovrat.head()"
      ],
      "execution_count": 0,
      "outputs": []
    },
    {
      "cell_type": "code",
      "metadata": {
        "id": "PJRfpLyGVvbi",
        "colab_type": "code",
        "colab": {}
      },
      "source": [
        "alt.data_transformers.enable('default', max_rows=None)\n",
        "\n",
        "brush = alt.selection(type='interval')\n",
        "\n",
        "points = alt.Chart(df).mark_point(filled=True).encode(\n",
        "    y='Year:N',\n",
        "      x='overall_rating:Q',\n",
        "    size='count()'\n",
        ").add_selection(\n",
        "    brush\n",
        ").interactive()\n",
        "\n",
        "bars = alt.Chart().mark_bar().encode(\n",
        "    y='cabin_flown:N',\n",
        "    color='cabin_flown:N',\n",
        "    x='count(cabin_flown):Q'\n",
        ").transform_filter(\n",
        "    brush\n",
        ")\n",
        "\n",
        "alt.vconcat(points, bars, data=df)"
      ],
      "execution_count": 0,
      "outputs": []
    },
    {
      "cell_type": "code",
      "metadata": {
        "id": "jBDbUUXAaHwW",
        "colab_type": "code",
        "colab": {}
      },
      "source": [
        "pts = alt.selection(type=\"single\", encodings=['x'])\n",
        "alt.data_transformers.enable('default', max_rows=None)\n",
        "\n",
        "rect = alt.Chart(df).mark_rect().encode(\n",
        "    alt.X('overall_rating', bin=True),\n",
        "    alt.Y('value_money_rating', bin=True),\n",
        "    alt.Color('count()',\n",
        "        scale=alt.Scale(scheme='greenblue'),\n",
        "        legend=alt.Legend(title='Total Records')\n",
        "    )\n",
        ")\n",
        "\n",
        "circ = rect.mark_point().encode(\n",
        "    alt.ColorValue('grey'),\n",
        "    alt.Size('count()',\n",
        "        legend=alt.Legend(title='Records in Selection')\n",
        "    )\n",
        ").transform_filter(\n",
        "    pts\n",
        ")\n",
        "\n",
        "bar = alt.Chart(df).mark_bar().encode(\n",
        "    x='cabin_flown',\n",
        "    y='count()',\n",
        "    color=alt.condition(pts, alt.ColorValue(\"steelblue\"), alt.ColorValue(\"grey\"))\n",
        ").properties(\n",
        "    selection=pts,\n",
        "    width=550,\n",
        "    height=200\n",
        ")\n",
        "\n",
        "alt.vconcat(\n",
        "    rect + circ,\n",
        "    bar\n",
        ").resolve_legend(\n",
        "    color=\"independent\",\n",
        "    size=\"independent\"\n",
        ")"
      ],
      "execution_count": 0,
      "outputs": []
    },
    {
      "cell_type": "code",
      "metadata": {
        "id": "alhsWHQXUgIl",
        "colab_type": "code",
        "colab": {}
      },
      "source": [
        "airlinename = pd.unique(airlines.airline_name)\n",
        "airlinename=['adria-airways', 'aegean-airlines', 'aer-lingus',\n",
        "       'aeroflot-russian-airlines', 'aerolineas-argentinas', 'aeromexico',\n",
        "       'aerosur', 'aigle-azur', 'air-algerie', 'air-arabia', 'air-astana',\n",
        "       'air-bagan', 'air-berlin', 'air-botswana', 'air-busan',\n",
        "       'air-canada', 'air-canada-rouge', 'air-caraibes', 'air-china',\n",
        "       'air-corsica', 'air-dolomiti', 'air-europa', 'air-france',\n",
        "       'air-india', 'air-india-express', 'air-koryo', 'air-labrador',\n",
        "       'air-macau', 'air-madagascar', 'air-malta', 'air-mauritius',\n",
        "       'air-mediterranee', 'air-moldova', 'air-namibia',\n",
        "       'air-new-zealand', 'air-niugini', 'air-nostrum', 'air-serbia',\n",
        "       'air-seychelles', 'air-tahiti-nui', 'air-transat', 'air-vanuata',\n",
        "       'air-zimbabwe', 'airasia', 'airasia-x', 'airasia-zest',\n",
        "       'airbaltic', 'air-blue', 'aircalin', 'airnorth', 'alaska-airlines',\n",
        "       'alitalia', 'allegiant-air', 'american-airlines', 'american-eagle',\n",
        "       'ana-all-nippon-airways', 'anadolujet', 'arik-air', 'arkefly',\n",
        "       'arkia-israeli', 'asiana-airlines', 'asky-airlines',\n",
        "       'atlantic-airways', 'atlasjet-airlines', 'austrian-airlines',\n",
        "       'avianca', 'avianca-brasil', 'aerogal-aerolineas-galapagos',\n",
        "       'azerbaijan-airlines', 'azul-linhas-aereas-brasileiras',\n",
        "       'bangkok-airways', 'beijing-capital-airlines', 'berjaya-air',\n",
        "       'bhutan-airlines', 'biman-bangladesh', 'binter-canarias',\n",
        "       'blue-air', 'blue1', 'bmi-british-midland-international',\n",
        "       'bmi-regional', 'boliviana-de-aviacin', 'british-airways',\n",
        "       'brussels-airlines', 'buddha-air', 'bulgaria-air',\n",
        "       'cambodia-angkor-airlines', 'canjet-airlines', 'cape-air',\n",
        "       'caribbean-airlines', 'cathay-pacific-airways', 'cayman-airways',\n",
        "       'cebu-pacific', 'china-airlines', 'china-eastern-airlines',\n",
        "       'china-southern-airlines', 'china-united-airlines', 'cityjet',\n",
        "       'condor-airlines', 'continental-airlines', 'copa-airlines',\n",
        "       'corendon-airlines', 'corsair', 'croatia-airlines',\n",
        "       'csa-czech-airlines', 'cubana-airlines', 'danish-air', 'darwin',\n",
        "       'delta-air-lines', 'dragonair', 'druk-air', 'eastarjet',\n",
        "       'eastern-airways', 'easyjet', 'edelweiss-air', 'egyptair',\n",
        "       'el-al-israel-airlines', 'emirates', 'estonian-air',\n",
        "       'ethiopian-airlines', 'etihad-airways', 'europe-airpost',\n",
        "       'eurowings', 'eva-air', 'fiji-airways', 'finnair', 'firefly',\n",
        "       'fly540-com', 'flybe', 'flydubai', 'free-bird',\n",
        "       'frontier-airlines', 'garuda-indonesia', 'georgian-airways',\n",
        "       'germanwings', 'goair', 'gol', 'gulf-air', 'hainan-airlines',\n",
        "       'hawaiian-airlines', 'hong-kong', 'hong-kong-airlines', 'iberia',\n",
        "       'icelandair', 'indigo-airlines', 'interjet', 'intersky',\n",
        "       'iran-air', 'iran-aseman', 'island', 'israir-airlines',\n",
        "       'japan-airlines', 'jazz', 'jeju-air', 'jet-airways', 'jet2-com',\n",
        "       'jetairfly', 'jetblue-airways', 'jetstar-airways', 'jetstar-asia',\n",
        "       'jetstar-pacific', 'jin-air', 'juneyao-airlines', 'kenya-airways',\n",
        "       'kish-air', 'klm-royal-dutch-airlines', 'korean-air',\n",
        "       'kuwait-airways', 'la-compagnie', 'lan-airlines', 'lan-colombia',\n",
        "       'lao-airlines', 'liat', 'lion-air', 'loch-lomond-seaplanes',\n",
        "       'lot-polish-airlines', 'lucky-air', 'lufthansa', 'luxair',\n",
        "       'mahan-air', 'malaysia-airlines', 'malindo-air', 'malm-aviation',\n",
        "       'mango', 'meridiana', 'miat-mongolian', 'mea-middle-east-airlines',\n",
        "       'mokulele-airlines', 'monarch-airlines', 'montenegro-airlines',\n",
        "       'myanmar-airways', 'nepal-airlines', 'nextjet', 'niki', 'nok-air',\n",
        "       'norwegian', 'okay-airways', 'olympic-air', 'oman-air', 'onur-air',\n",
        "       'openskies', 'orient-thai', 'pia-pakistan-international-airlines',\n",
        "       'pal-express', 'peach-aviation', 'pegasus-airlines',\n",
        "       'peruvian-airlines', 'philippine-airlines', 'porter-airlines',\n",
        "       'precision', 'qantas-airways', 'qantaslink', 'qatar-airways',\n",
        "       'regional-express', 'rossiya-airlines', 'royal-air-maroc',\n",
        "       'royal-brunei-airlines', 'royal-jordanian-airlines', 'rwandair',\n",
        "       'ryanair', 's7-siberia-airlines', 'sa-express', 'santa-barbara',\n",
        "       'sas-scandinavian-airlines', 'sata-air-azores',\n",
        "       'sata-internacional', 'saudi-arabian-airlines', 'scoot',\n",
        "       'shaheen-air', 'shandong-airlines', 'shanghai-airlines',\n",
        "       'shenzhen-airlines', 'sichuan-airlines', 'silkair',\n",
        "       'singapore-airlines', 'sky-airline', 'skymark-airlines',\n",
        "       'skywest-airlines', 'small-planet-airlines-uab', 'smartwings',\n",
        "       'solomon-airlines', 'somon-air', 'south-african-airways',\n",
        "       'southwest-airlines', 'spicejet', 'spirit-airlines', 'spring',\n",
        "       'srilankan-airlines', 'sriwijaya-air', 'star-per', 'starflyer',\n",
        "       'sun-country-airlines', 'sunwing-airlines',\n",
        "       'swiss-international-air-lines', 'taag-angola-airlines', 'taca',\n",
        "       'tacv-cabo', 'tam-airlines', 'tame', 'tap-portugal',\n",
        "       'tarom-romanian-airlines', 'thai-airways', 'thomas-cook-airlines',\n",
        "       'thomas-cook-belgium-airlines-customer', 'thomson-airways',\n",
        "       'tianjin-airlines', 'tigerair', 'transaero-airlines', 'transavia',\n",
        "       'tuifly', 'tunisair', 'turkish-airlines', 'turkmenistan-airlines',\n",
        "       'ukraine-international-airlines', 'united-airlines', 'us-airways',\n",
        "       'utair-aviation', 'uzbekistan-airways', 'vietjetair',\n",
        "       'vietnam-airlines', 'virgin-america', 'virgin-atlantic-airways',\n",
        "       'virgin-australia', 'volaris', 'volotea', 'vueling-airlines',\n",
        "       'westjet', 'wideroe', 'wizz-air', 'wow-air', 'xiamen-airlines',\n",
        "       'xl-airways-france', 'yangon-airways']\n",
        "\n",
        "\n",
        "base = alt.Chart(airlines).mark_point(filled=True).encode(\n",
        "    x=alt.X('overall_rating:Q', scale=alt.Scale(domain=(1,10), clamp=True)),\n",
        "    y='seat_comfort_rating:Q',\n",
        "\tsize='count()'\n",
        ").interactive()\n",
        "\n",
        "# A slider filter\n",
        "year_slider = alt.binding_range(min=2011, max=2015, step=1)\n",
        "slider_selection = alt.selection_single(bind=year_slider, fields=['Year'], name=\"Operational\")\n",
        "\n",
        "\n",
        "filter_year = base.add_selection(\n",
        "    slider_selection\n",
        ").transform_filter(\n",
        "    slider_selection\n",
        ").properties(title=\"Slider Filtering\")\n",
        "\n",
        "\n",
        "## A dropdown filter\n",
        "airline_dropdown = alt.binding_select(options=airlinename)\n",
        "airline_select = alt.selection_single(fields=['airline_name'], bind=airline_dropdown, name=\"Select\")\n",
        "\n",
        "filter_airline = base.add_selection(\n",
        "   airline_select\n",
        ").transform_filter(\n",
        "    airline_select\n",
        ").properties(title=\"Dropdown Filtering\")\n",
        "\n",
        "filter_airline & filter_year"
      ],
      "execution_count": 0,
      "outputs": []
    },
    {
      "cell_type": "code",
      "metadata": {
        "id": "-O2ylWCigspC",
        "colab_type": "code",
        "colab": {}
      },
      "source": [
        "sns.heatmap(df.corr(),annot = True,cmap='coolwarm',linewidth=0.9)\n",
        "plt.show() \n"
      ],
      "execution_count": 0,
      "outputs": []
    },
    {
      "cell_type": "code",
      "metadata": {
        "id": "k83vsN2eHh7n",
        "colab_type": "code",
        "colab": {}
      },
      "source": [
        "#3D Scatter Plot\n",
        "airlines['recommended1'] = airlines['recommended'].astype('category')\n",
        "cat_column = airlines.select_dtypes(['category']).columns\n",
        "airlines[cat_column] = airlines[cat_column].apply(lambda x: x.cat.codes)\n",
        "airlines.dtypes"
      ],
      "execution_count": 0,
      "outputs": []
    },
    {
      "cell_type": "code",
      "metadata": {
        "id": "tQtQlVS2NrJh",
        "colab_type": "code",
        "colab": {}
      },
      "source": [
        "hist=alt.Chart(airlines).mark_area(\n",
        "    interpolate='step'\n",
        ").encode(\n",
        "      alt.X('Year:Q',\n",
        "        scale=alt.Scale(\n",
        "            domain=(2011, 2015),\n",
        "            clamp=True\n",
        "        )\n",
        "    ),\n",
        "    alt.Y('count(cabin_flown)',stack=None),\n",
        "    alt.Color('cabin_flown')\n",
        ").interactive(bind_y=False)\n",
        "hist"
      ],
      "execution_count": 0,
      "outputs": []
    },
    {
      "cell_type": "code",
      "metadata": {
        "id": "7UI19gJ0ODjY",
        "colab_type": "code",
        "colab": {}
      },
      "source": [
        "import plotly.plotly as py\n",
        "import plotly.figure_factory as FF\n",
        "import plotly.graph_objs as go\n",
        "\n",
        "import numpy as np\n",
        "from scipy.spatial import Delaunay\n",
        "x = airlines.seat_comfort_rating\n",
        "y = airlines.cabin_staff_rating\n",
        "z = airlines.value_money_rating\n",
        "col= airlines.recommended1\n",
        "\n",
        "points2D = np.vstack([x,y]).T\n",
        "tri = Delaunay(points2D)\n",
        "simplices = tri.simplices\n",
        "layout = go.Layout(showlegend=True, scene=Scene(\n",
        "        xaxis=XAxis(title='Seat Comfort Rating'),\n",
        "        yaxis=YAxis(title='Cabin Staff Rating'),\n",
        "        zaxis=ZAxis(title='value_money_rating')\n",
        "    ),autosize=True\n",
        ")\n",
        "\n",
        "fig1 = FF.create_trisurf(x=x, y=y, z=z,\n",
        "                         colormap=\"Portland\",\n",
        "                         simplices=simplices,\n",
        "                         title=\"Mobius Band for Component Ratings\")\n",
        "py.iplot(fig1, filename=\"Mobius-Band\")"
      ],
      "execution_count": 0,
      "outputs": []
    },
    {
      "cell_type": "code",
      "metadata": {
        "id": "Hun7Cos7ODrC",
        "colab_type": "code",
        "colab": {}
      },
      "source": [
        "x = airlines.groupby('airline_name')['seat_comfort_rating'].mean()\n",
        "y = airlines.groupby('airline_name')['cabin_staff_rating'].mean()\n",
        "z = airlines.groupby('airline_name')['food_beverages_rating'].mean()\n",
        "col= airlines.recommended1\n",
        "trace = go.Scatter3d(\n",
        "x = x,\n",
        "y = y,\n",
        "z = z,\n",
        "name='recommended',\n",
        "\n",
        "mode='markers',\n",
        "    marker=dict(\n",
        "        size=12,\n",
        "        color=col,                # set color to an array/list of desired values\n",
        "        colorscale=[[0, 'red'],[1, 'green']],   # choose a colorscale\n",
        "        opacity=0.8\n",
        "    )\n",
        ")\n",
        "\n",
        "\n",
        "data = [trace]\n",
        "\n",
        "layout = dict(showlegend=True,\n",
        "    width=800,\n",
        "    height=700,\n",
        "    autosize=False,\n",
        "    title='Airline Dataset',\n",
        "    scene=dict(\n",
        "        xaxis=dict(\n",
        "            gridcolor='rgb(255, 255, 255)',\n",
        "            zerolinecolor='rgb(255, 255, 255)',\n",
        "            showbackground=True,\n",
        "            backgroundcolor='rgb(230, 230,230)',\n",
        "            title='Seat Comfort Rating'\n",
        "        ),\n",
        "        yaxis=dict(\n",
        "            gridcolor='rgb(255, 255, 255)',\n",
        "            zerolinecolor='rgb(255, 255, 255)',\n",
        "            showbackground=True,\n",
        "            backgroundcolor='rgb(230, 230,230)',\n",
        "            title='Cabin Staff Rating'\n",
        "        ),\n",
        "        zaxis=dict(\n",
        "            gridcolor='rgb(255, 255, 255)',\n",
        "            zerolinecolor='rgb(255, 255, 255)',\n",
        "            showbackground=True,\n",
        "            backgroundcolor='rgb(230, 230,230)',\n",
        "            title='Food Beverage Rating'\n",
        "        ),\n",
        "        camera=dict(\n",
        "            up=dict(\n",
        "                x=0,\n",
        "                y=0,\n",
        "                z=1\n",
        "            ),\n",
        "            eye=dict(\n",
        "                x=-1.7428,\n",
        "                y=1.0707,\n",
        "                z=0.7100,\n",
        "            )\n",
        "        ),\n",
        "        aspectratio = dict( x=1, y=1, z=0.7 ),\n",
        "        aspectmode = 'manual'\n",
        "    ),\n",
        ")\n",
        "\n",
        "fig = dict(data=data, layout=layout)\n",
        "\n",
        "py.iplot(fig, filename='bubble', height=700)"
      ],
      "execution_count": 0,
      "outputs": []
    },
    {
      "cell_type": "code",
      "metadata": {
        "id": "X_6KzJmXODuF",
        "colab_type": "code",
        "colab": {}
      },
      "source": [
        "scatter = dict(\n",
        "    mode = \"markers\",\n",
        "    name = \"y\",\n",
        "    type = \"scatter3d\",    \n",
        "    x = airlines.seat_comfort_rating,\n",
        "    y = airlines.cabin_staff_rating,\n",
        "    z = airlines.food_beverages_rating,\n",
        "    marker = dict( size=2, color=\"rgb(23, 190, 207)\" )\n",
        ")\n",
        "clusters = dict(\n",
        "    alphahull = 7,\n",
        "    name = \"y\",\n",
        "    opacity = 0.1,\n",
        "    type = \"mesh3d\",    \n",
        "    x = airlines.seat_comfort_rating,\n",
        "    y = airlines.cabin_staff_rating,\n",
        "    z = airlines.food_beverages_rating\n",
        ")\n",
        "layout = dict(\n",
        "    title = '3d point clustering',\n",
        "    scene = dict(\n",
        "        xaxis=XAxis(title='Seat Comfort Rating'),\n",
        "        yaxis=YAxis(title='Cabin Staff Rating'),\n",
        "        zaxis=ZAxis(title='Food Beverages Rating')\n",
        "    ),autosize=True\n",
        ")\n",
        "fig = dict( data=[scatter, clusters], layout=layout )\n",
        "# Use py.iplot() for IPython notebook\n",
        "py.iplot(fig, filename='3d point clustering')"
      ],
      "execution_count": 0,
      "outputs": []
    },
    {
      "cell_type": "code",
      "metadata": {
        "id": "ORhhp4R_ODxE",
        "colab_type": "code",
        "colab": {}
      },
      "source": [
        "df_sorted=airlines.sort_values(by=['Year'],ascending=False)\n",
        "\n",
        "alt.data_transformers.enable('default', max_rows=None)\n",
        "\n",
        "df_ovrat=airlines.groupby('Destination Country').mean().overall_rating\n",
        "df_ovrat.head()"
      ],
      "execution_count": 0,
      "outputs": []
    },
    {
      "cell_type": "code",
      "metadata": {
        "id": "noIqswUFQNuy",
        "colab_type": "code",
        "colab": {}
      },
      "source": [
        "#Based on count of flights flown to each country\n",
        "descount=df_sorted.groupby('Destination Country').size().reset_index(name ='Count')\n",
        "top5country=descount.sort_values(['Count'],ascending=False).head(5)\n",
        "df_top5=pd.merge(df_sorted, top5country, on='Destination Country', how='inner')\n",
        "df_top5.head()\n",
        "top5_overall=df_sorted.groupby('Destination Country')['overall_rating','inflight_entertainment_rating'].mean().reset_index()\n",
        "df_top5_overall=top5_overall.sort_values(['overall_rating'],ascending=False).head(5)\n",
        "df_top5_rating=pd.merge(df_sorted, df_top5_overall, on='Destination Country', how='inner')"
      ],
      "execution_count": 0,
      "outputs": []
    },
    {
      "cell_type": "code",
      "metadata": {
        "id": "ImFoJ59LQNxt",
        "colab_type": "code",
        "colab": {}
      },
      "source": [
        "descount=df_sorted.groupby('Destination Country').size().reset_index(name ='Count')\n",
        "top5country=descount.sort_values(['Count'],ascending=False).head(5)\n",
        "alt.Chart(df_top5).mark_bar(size=30).encode(\n",
        "    x='average(overall_rating)',\n",
        "    y='count(airline_name)',\n",
        "    color='Destination Country'\n",
        ").properties(\n",
        "    title='Rating of Top 5 Most Visited Countries'\n",
        ").interactive()"
      ],
      "execution_count": 0,
      "outputs": []
    },
    {
      "cell_type": "code",
      "metadata": {
        "id": "zPoYAvGDUPFn",
        "colab_type": "code",
        "colab": {}
      },
      "source": [
        "alt.Chart(df_top5).mark_bar(size=30).encode(\n",
        "    x='average(overall_rating)',\n",
        "    y='average(inflight_entertainment_rating)',\n",
        "    color='Destination Country'\n",
        ").properties(\n",
        "    title='Relationship between Inflight Entertainment and Overall Rating for Top 5 Most Visited Countries'\n",
        ").interactive()"
      ],
      "execution_count": 0,
      "outputs": []
    },
    {
      "cell_type": "code",
      "metadata": {
        "id": "_hcCoxKuQOF1",
        "colab_type": "code",
        "colab": {}
      },
      "source": [
        "scale = alt.Scale(domain=['No', 'Yes'],\n",
        "                  range=['#e7ba52','#9467bd'])\n",
        "color = alt.Color('recommended:N',scale=scale)\n",
        "# We create two selections:\n",
        "# - a brush that is active on the top panel\n",
        "# - a multi-click that is active on the bottom panel\n",
        "brush = alt.selection_interval(encodings=['x'])\n",
        "click = alt.selection_multi(encodings=['color'])\n",
        "\n",
        "points = alt.Chart().mark_bar(size=30).encode(\n",
        "    alt.X('value_money_rating:Q', title='Value for Money Rating'),\n",
        "    alt.Y('count():Q',\n",
        "        title='Count'\n",
        "    ),\n",
        "    color=alt.condition(brush, color, alt.value('lightgray'))\n",
        ").properties(\n",
        "    width=300,\n",
        "    height=300\n",
        ").add_selection(\n",
        "    brush\n",
        ").transform_filter(\n",
        "    click\n",
        ")\n",
        "\n",
        "bars = alt.Chart().mark_bar().encode(\n",
        "    x='count()',\n",
        "    y='cabin_flown:N',\n",
        "    color=alt.condition(click, color, alt.value('lightgray')),\n",
        ").transform_filter(\n",
        "    brush\n",
        ").properties(\n",
        "    width=550,\n",
        ").add_selection(\n",
        "    click\n",
        ")\n",
        "\n",
        "alt.vconcat(\n",
        "    points,\n",
        "    bars,\n",
        "    data=airlines\n",
        ")"
      ],
      "execution_count": 0,
      "outputs": []
    },
    {
      "cell_type": "code",
      "metadata": {
        "id": "3le0SSPjNre6",
        "colab_type": "code",
        "colab": {}
      },
      "source": [
        "airlines_pivot=pd.pivot_table(airlines, values = 'overall_rating', index=['airline_name','Year'],aggfunc=[np.mean,np.sum,'count']).reset_index()\n",
        "#df_sorted=df.sort_values(by=['Year'],ascending=False)\n",
        "top10_overall=df_sorted.groupby('airline_name')['overall_rating'].sum().reset_index()\n",
        "df_top10_overall=top10_overall.sort_values(['overall_rating'],ascending=False).head(10)\n",
        "df_top10_rating=pd.merge(df_sorted, df_top10_overall, on='airline_name', how='inner')\n",
        "df_top10_rating.head(10)"
      ],
      "execution_count": 0,
      "outputs": []
    },
    {
      "cell_type": "code",
      "metadata": {
        "id": "ikDeC07nQ28j",
        "colab_type": "code",
        "colab": {}
      },
      "source": [
        "alt.data_transformers.enable('default', max_rows=None)\n",
        "\n",
        "source = df_top10_rating\n",
        "\n",
        "bar = alt.Chart(source).mark_bar().encode(\n",
        "    x='airline_name',\n",
        "    y='overall_rating_y'\n",
        "    \n",
        ")\n",
        "\n",
        "rule = alt.Chart(source).mark_rule(color='red').encode(\n",
        "    y='mean(overall_rating_y)'\n",
        ")\n",
        "\n",
        "(bar + rule).properties(width=600)\n",
        "\n",
        "\n"
      ],
      "execution_count": 0,
      "outputs": []
    },
    {
      "cell_type": "code",
      "metadata": {
        "id": "88rgnL96rzls",
        "colab_type": "code",
        "colab": {}
      },
      "source": [
        "alt.Chart(\n",
        "    df_sorted,\n",
        ").mark_bar().encode(\n",
        "    x=alt.X(\n",
        "        'airline_name',\n",
        "        sort=alt.EncodingSortField(field=\"airline_name\", op=\"mean\", order='descending')\n",
        "    ),\n",
        "    y=alt.Y('overall_rating:Q',scale=alt.Scale(domain=(0,10),\n",
        "            clamp=True)),\n",
        "    color=alt.Color('count()')\n",
        "\n",
        ").interactive()"
      ],
      "execution_count": 0,
      "outputs": []
    },
    {
      "cell_type": "code",
      "metadata": {
        "id": "6vZ62knOsqyv",
        "colab_type": "code",
        "colab": {}
      },
      "source": [
        "sns_plot=sns.pairplot(airlines[[\"overall_rating\",\"seat_comfort_rating\",\"cabin_staff_rating\",\"food_beverages_rating\",\"inflight_entertainment_rating\",\"value_money_rating\",\"cabin_flown\"]], hue='cabin_flown')\n",
        "plt.show()"
      ],
      "execution_count": 0,
      "outputs": []
    }
  ]
}